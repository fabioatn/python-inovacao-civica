{
 "cells": [
  {
   "cell_type": "code",
   "execution_count": 3,
   "source": [
    "numero_1 =  int(input(\"Insira um número positivo: \"))"
   ],
   "outputs": [],
   "metadata": {}
  },
  {
   "cell_type": "code",
   "execution_count": 4,
   "source": [
    "numero_2 =  int(input(\"Insira outro número positivo: \"))"
   ],
   "outputs": [],
   "metadata": {}
  },
  {
   "cell_type": "code",
   "execution_count": 5,
   "source": [
    "lista = list(range(numero_1, numero_2))"
   ],
   "outputs": [],
   "metadata": {}
  },
  {
   "cell_type": "code",
   "execution_count": 6,
   "source": [
    "print(lista)"
   ],
   "outputs": [
    {
     "output_type": "stream",
     "name": "stdout",
     "text": [
      "[10, 11, 12, 13, 14, 15, 16, 17, 18, 19]\n"
     ]
    }
   ],
   "metadata": {}
  },
  {
   "cell_type": "code",
   "execution_count": 7,
   "source": [
    "lista_atualizada = []"
   ],
   "outputs": [],
   "metadata": {}
  },
  {
   "cell_type": "code",
   "execution_count": 8,
   "source": [
    "for numero in lista:\r\n",
    "    if numero % 3 ==0 and numero % 5 == 0:\r\n",
    "        lista_atualizada.append(\"Tecnologia Cívica\")\r\n",
    "    elif numero %5 == 0:\r\n",
    "        lista_atualizada.append(\"Cívica\")\r\n",
    "    elif numero % 3 == 0:\r\n",
    "        lista_atualizada.append(\"Tecnologia\")\r\n",
    "   "
   ],
   "outputs": [],
   "metadata": {}
  },
  {
   "cell_type": "code",
   "execution_count": 9,
   "source": [
    "print(lista_atualizada)"
   ],
   "outputs": [
    {
     "output_type": "stream",
     "name": "stdout",
     "text": [
      "['Cívica', 'Tecnologia', 'Tecnologia Cívica', 'Tecnologia']\n"
     ]
    }
   ],
   "metadata": {}
  },
  {
   "cell_type": "code",
   "execution_count": null,
   "source": [],
   "outputs": [],
   "metadata": {}
  },
  {
   "cell_type": "code",
   "execution_count": null,
   "source": [],
   "outputs": [],
   "metadata": {}
  }
 ],
 "metadata": {
  "kernelspec": {
   "name": "python3",
   "display_name": "Python 3.9.6 64-bit"
  },
  "language_info": {
   "codemirror_mode": {
    "name": "ipython",
    "version": 3
   },
   "file_extension": ".py",
   "mimetype": "text/x-python",
   "name": "python",
   "nbconvert_exporter": "python",
   "pygments_lexer": "ipython3",
   "version": "3.9.6"
  },
  "interpreter": {
   "hash": "22626d351ea06a19e9d47a22d2b9e6ae41889ab57a49385ad0921d17b4cbec0e"
  }
 },
 "nbformat": 4,
 "nbformat_minor": 5
}